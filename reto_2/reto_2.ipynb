{
 "cells": [
  {
   "cell_type": "code",
   "execution_count": 2,
   "id": "853aff01",
   "metadata": {},
   "outputs": [
    {
     "name": "stderr",
     "output_type": "stream",
     "text": [
      "/home/samuel/miniconda3/envs/fastai2/lib/python3.10/site-packages/torchvision/io/image.py:13: UserWarning: Failed to load image Python extension: /home/samuel/miniconda3/envs/fastai2/lib/python3.10/site-packages/torchvision/image.so: undefined symbol: _ZN2at4_ops19empty_memory_format4callEN3c108ArrayRefIlEENS2_8optionalINS2_10ScalarTypeEEENS5_INS2_6LayoutEEENS5_INS2_6DeviceEEENS5_IbEENS5_INS2_12MemoryFormatEEE\n",
      "  warn(f\"Failed to load image Python extension: {e}\")\n"
     ]
    }
   ],
   "source": [
    "from fastbook import *\n",
    "from pandas.api.types import is_string_dtype, is_numeric_dtype, is_categorical_dtype\n",
    "from fastai.tabular.all import *\n",
    "from sklearn.ensemble import RandomForestRegressor\n",
    "from sklearn.tree import DecisionTreeRegressor\n",
    "from dtreeviz.trees import *\n",
    "from IPython.display import Image, display_svg, SVG\n",
    "\n",
    "pd.options.display.max_rows = 10\n",
    "pd.options.display.max_columns = 20\n",
    "     "
   ]
  },
  {
   "cell_type": "code",
   "execution_count": 3,
   "id": "ebe8e5f1",
   "metadata": {},
   "outputs": [],
   "source": [
    "path = Path(\".\")"
   ]
  },
  {
   "cell_type": "code",
   "execution_count": 6,
   "id": "4b2fd862",
   "metadata": {},
   "outputs": [],
   "source": [
    "df = pd.read_csv(\"liquidity_challenge.csv\", sep=\"|\")"
   ]
  },
  {
   "cell_type": "code",
   "execution_count": 7,
   "id": "bd9042ac",
   "metadata": {},
   "outputs": [
    {
     "data": {
      "text/html": [
       "<div>\n",
       "<style scoped>\n",
       "    .dataframe tbody tr th:only-of-type {\n",
       "        vertical-align: middle;\n",
       "    }\n",
       "\n",
       "    .dataframe tbody tr th {\n",
       "        vertical-align: top;\n",
       "    }\n",
       "\n",
       "    .dataframe thead th {\n",
       "        text-align: right;\n",
       "    }\n",
       "</style>\n",
       "<table border=\"1\" class=\"dataframe\">\n",
       "  <thead>\n",
       "    <tr style=\"text-align: right;\">\n",
       "      <th></th>\n",
       "      <th>property_id</th>\n",
       "      <th>event</th>\n",
       "      <th>time2event</th>\n",
       "      <th>property_type</th>\n",
       "      <th>surface_total</th>\n",
       "      <th>num_bathrooms</th>\n",
       "      <th>num_bedrooms</th>\n",
       "      <th>marketplace_hash</th>\n",
       "      <th>seller_hash</th>\n",
       "      <th>num_parking_lots</th>\n",
       "      <th>...</th>\n",
       "      <th>has_elevator</th>\n",
       "      <th>has_garden</th>\n",
       "      <th>has_gym</th>\n",
       "      <th>has_luxury_features</th>\n",
       "      <th>has_pool</th>\n",
       "      <th>has_studio</th>\n",
       "      <th>has_surveillance</th>\n",
       "      <th>has_terrace</th>\n",
       "      <th>has_visitors_parking</th>\n",
       "      <th>has_washing_area</th>\n",
       "    </tr>\n",
       "  </thead>\n",
       "  <tbody>\n",
       "    <tr>\n",
       "      <th>0</th>\n",
       "      <td>069c4d09-1f4e-4451-bf9f-23130537bb37</td>\n",
       "      <td>1</td>\n",
       "      <td>96</td>\n",
       "      <td>apartment</td>\n",
       "      <td>120.0</td>\n",
       "      <td>2.5</td>\n",
       "      <td>2.0</td>\n",
       "      <td>-2.900368e+18</td>\n",
       "      <td>-7.946976e+18</td>\n",
       "      <td>1.0</td>\n",
       "      <td>...</td>\n",
       "      <td>1</td>\n",
       "      <td>0</td>\n",
       "      <td>0</td>\n",
       "      <td>0</td>\n",
       "      <td>0</td>\n",
       "      <td>0</td>\n",
       "      <td>0</td>\n",
       "      <td>0</td>\n",
       "      <td>0</td>\n",
       "      <td>0</td>\n",
       "    </tr>\n",
       "    <tr>\n",
       "      <th>1</th>\n",
       "      <td>0a4c5851-88ae-4d33-8fb7-f7d50ca85389</td>\n",
       "      <td>0</td>\n",
       "      <td>37</td>\n",
       "      <td>apartment</td>\n",
       "      <td>82.0</td>\n",
       "      <td>2.0</td>\n",
       "      <td>2.0</td>\n",
       "      <td>8.261012e+18</td>\n",
       "      <td>1.284474e+18</td>\n",
       "      <td>2.0</td>\n",
       "      <td>...</td>\n",
       "      <td>1</td>\n",
       "      <td>0</td>\n",
       "      <td>0</td>\n",
       "      <td>0</td>\n",
       "      <td>0</td>\n",
       "      <td>0</td>\n",
       "      <td>1</td>\n",
       "      <td>1</td>\n",
       "      <td>0</td>\n",
       "      <td>0</td>\n",
       "    </tr>\n",
       "  </tbody>\n",
       "</table>\n",
       "<p>2 rows × 29 columns</p>\n",
       "</div>"
      ],
      "text/plain": [
       "                            property_id  event  time2event property_type  \\\n",
       "0  069c4d09-1f4e-4451-bf9f-23130537bb37      1          96     apartment   \n",
       "1  0a4c5851-88ae-4d33-8fb7-f7d50ca85389      0          37     apartment   \n",
       "\n",
       "   surface_total  num_bathrooms  num_bedrooms  marketplace_hash   seller_hash  \\\n",
       "0          120.0            2.5           2.0     -2.900368e+18 -7.946976e+18   \n",
       "1           82.0            2.0           2.0      8.261012e+18  1.284474e+18   \n",
       "\n",
       "   num_parking_lots  ...  has_elevator  has_garden  has_gym  \\\n",
       "0               1.0  ...             1           0        0   \n",
       "1               2.0  ...             1           0        0   \n",
       "\n",
       "   has_luxury_features  has_pool  has_studio has_surveillance has_terrace  \\\n",
       "0                    0         0           0                0           0   \n",
       "1                    0         0           0                1           1   \n",
       "\n",
       "   has_visitors_parking  has_washing_area  \n",
       "0                     0                 0  \n",
       "1                     0                 0  \n",
       "\n",
       "[2 rows x 29 columns]"
      ]
     },
     "execution_count": 7,
     "metadata": {},
     "output_type": "execute_result"
    }
   ],
   "source": [
    "df.head(2)"
   ]
  },
  {
   "cell_type": "code",
   "execution_count": null,
   "id": "b4a73fbc",
   "metadata": {},
   "outputs": [],
   "source": []
  },
  {
   "cell_type": "code",
   "execution_count": 8,
   "id": "8e444cd0",
   "metadata": {},
   "outputs": [],
   "source": [
    "procs = [Categorify, FillMissing]"
   ]
  },
  {
   "cell_type": "code",
   "execution_count": 9,
   "id": "8111a8bd",
   "metadata": {},
   "outputs": [],
   "source": [
    "dep_var = \"time2event\""
   ]
  },
  {
   "cell_type": "code",
   "execution_count": 10,
   "id": "81496b50",
   "metadata": {},
   "outputs": [],
   "source": [
    "df[dep_var] = np.log(df[dep_var])"
   ]
  },
  {
   "cell_type": "code",
   "execution_count": null,
   "id": "83a3da2a",
   "metadata": {},
   "outputs": [],
   "source": []
  },
  {
   "cell_type": "code",
   "execution_count": 11,
   "id": "a61b6087",
   "metadata": {},
   "outputs": [],
   "source": [
    "df = add_datepart(df, \"first_observed_date\")\n",
    "df = add_datepart(df, \"last_observed_date\")"
   ]
  },
  {
   "cell_type": "code",
   "execution_count": 70,
   "id": "d477d3c2",
   "metadata": {},
   "outputs": [
    {
     "data": {
      "text/html": [
       "<div>\n",
       "<style scoped>\n",
       "    .dataframe tbody tr th:only-of-type {\n",
       "        vertical-align: middle;\n",
       "    }\n",
       "\n",
       "    .dataframe tbody tr th {\n",
       "        vertical-align: top;\n",
       "    }\n",
       "\n",
       "    .dataframe thead th {\n",
       "        text-align: right;\n",
       "    }\n",
       "</style>\n",
       "<table border=\"1\" class=\"dataframe\">\n",
       "  <thead>\n",
       "    <tr style=\"text-align: right;\">\n",
       "      <th></th>\n",
       "      <th>property_id</th>\n",
       "      <th>event</th>\n",
       "      <th>time2event</th>\n",
       "      <th>property_type</th>\n",
       "      <th>surface_total</th>\n",
       "      <th>num_bathrooms</th>\n",
       "      <th>num_bedrooms</th>\n",
       "      <th>marketplace_hash</th>\n",
       "      <th>seller_hash</th>\n",
       "      <th>num_parking_lots</th>\n",
       "      <th>...</th>\n",
       "      <th>last_observed_Day</th>\n",
       "      <th>last_observed_Dayofweek</th>\n",
       "      <th>last_observed_Dayofyear</th>\n",
       "      <th>last_observed_Is_month_end</th>\n",
       "      <th>last_observed_Is_month_start</th>\n",
       "      <th>last_observed_Is_quarter_end</th>\n",
       "      <th>last_observed_Is_quarter_start</th>\n",
       "      <th>last_observed_Is_year_end</th>\n",
       "      <th>last_observed_Is_year_start</th>\n",
       "      <th>last_observed_Elapsed</th>\n",
       "    </tr>\n",
       "  </thead>\n",
       "  <tbody>\n",
       "    <tr>\n",
       "      <th>0</th>\n",
       "      <td>069c4d09-1f4e-4451-bf9f-23130537bb37</td>\n",
       "      <td>1</td>\n",
       "      <td>4.564348</td>\n",
       "      <td>apartment</td>\n",
       "      <td>120.0</td>\n",
       "      <td>2.5</td>\n",
       "      <td>2.0</td>\n",
       "      <td>-2.900368e+18</td>\n",
       "      <td>-7.946976e+18</td>\n",
       "      <td>1.0</td>\n",
       "      <td>...</td>\n",
       "      <td>9</td>\n",
       "      <td>5</td>\n",
       "      <td>252</td>\n",
       "      <td>False</td>\n",
       "      <td>False</td>\n",
       "      <td>False</td>\n",
       "      <td>False</td>\n",
       "      <td>False</td>\n",
       "      <td>False</td>\n",
       "      <td>1.694232e+09</td>\n",
       "    </tr>\n",
       "    <tr>\n",
       "      <th>1</th>\n",
       "      <td>0a4c5851-88ae-4d33-8fb7-f7d50ca85389</td>\n",
       "      <td>0</td>\n",
       "      <td>3.610918</td>\n",
       "      <td>apartment</td>\n",
       "      <td>82.0</td>\n",
       "      <td>2.0</td>\n",
       "      <td>2.0</td>\n",
       "      <td>8.261012e+18</td>\n",
       "      <td>1.284474e+18</td>\n",
       "      <td>2.0</td>\n",
       "      <td>...</td>\n",
       "      <td>9</td>\n",
       "      <td>0</td>\n",
       "      <td>282</td>\n",
       "      <td>False</td>\n",
       "      <td>False</td>\n",
       "      <td>False</td>\n",
       "      <td>False</td>\n",
       "      <td>False</td>\n",
       "      <td>False</td>\n",
       "      <td>1.696869e+09</td>\n",
       "    </tr>\n",
       "  </tbody>\n",
       "</table>\n",
       "<p>2 rows × 53 columns</p>\n",
       "</div>"
      ],
      "text/plain": [
       "                            property_id  event  time2event property_type  \\\n",
       "0  069c4d09-1f4e-4451-bf9f-23130537bb37      1    4.564348     apartment   \n",
       "1  0a4c5851-88ae-4d33-8fb7-f7d50ca85389      0    3.610918     apartment   \n",
       "\n",
       "   surface_total  num_bathrooms  num_bedrooms  marketplace_hash   seller_hash  \\\n",
       "0          120.0            2.5           2.0     -2.900368e+18 -7.946976e+18   \n",
       "1           82.0            2.0           2.0      8.261012e+18  1.284474e+18   \n",
       "\n",
       "   num_parking_lots  ...  last_observed_Day  last_observed_Dayofweek  \\\n",
       "0               1.0  ...                  9                        5   \n",
       "1               2.0  ...                  9                        0   \n",
       "\n",
       "   last_observed_Dayofyear  last_observed_Is_month_end  \\\n",
       "0                      252                       False   \n",
       "1                      282                       False   \n",
       "\n",
       "   last_observed_Is_month_start  last_observed_Is_quarter_end  \\\n",
       "0                         False                         False   \n",
       "1                         False                         False   \n",
       "\n",
       "   last_observed_Is_quarter_start  last_observed_Is_year_end  \\\n",
       "0                           False                      False   \n",
       "1                           False                      False   \n",
       "\n",
       "   last_observed_Is_year_start  last_observed_Elapsed  \n",
       "0                        False           1.694232e+09  \n",
       "1                        False           1.696869e+09  \n",
       "\n",
       "[2 rows x 53 columns]"
      ]
     },
     "execution_count": 70,
     "metadata": {},
     "output_type": "execute_result"
    }
   ],
   "source": [
    "df.head(2)"
   ]
  },
  {
   "cell_type": "code",
   "execution_count": 18,
   "id": "fd176efb",
   "metadata": {},
   "outputs": [],
   "source": [
    "splits = RandomSplitter(valid_pct=0.2)(range_of(df))"
   ]
  },
  {
   "cell_type": "code",
   "execution_count": 19,
   "id": "c2641cfa",
   "metadata": {},
   "outputs": [],
   "source": [
    "cont,cat = cont_cat_split(df, 1, dep_var=dep_var)"
   ]
  },
  {
   "cell_type": "code",
   "execution_count": 20,
   "id": "161f7e34",
   "metadata": {},
   "outputs": [
    {
     "data": {
      "text/plain": [
       "16"
      ]
     },
     "execution_count": 20,
     "metadata": {},
     "output_type": "execute_result"
    }
   ],
   "source": [
    "len(cat)"
   ]
  },
  {
   "cell_type": "code",
   "execution_count": 21,
   "id": "a3166a75",
   "metadata": {},
   "outputs": [
    {
     "data": {
      "text/plain": [
       "36"
      ]
     },
     "execution_count": 21,
     "metadata": {},
     "output_type": "execute_result"
    }
   ],
   "source": [
    "len(cont)"
   ]
  },
  {
   "cell_type": "code",
   "execution_count": 22,
   "id": "124f3625",
   "metadata": {},
   "outputs": [],
   "source": [
    "to = TabularPandas(df, procs=[Categorify, FillMissing,Normalize],\n",
    "                   cat_names = cat,\n",
    "                   cont_names = cont,\n",
    "                   y_names= dep_var,\n",
    "                   splits=splits)"
   ]
  },
  {
   "cell_type": "code",
   "execution_count": 23,
   "id": "e03a5003",
   "metadata": {},
   "outputs": [
    {
     "data": {
      "text/plain": [
       "3792"
      ]
     },
     "execution_count": 23,
     "metadata": {},
     "output_type": "execute_result"
    }
   ],
   "source": [
    "len(to.train)"
   ]
  },
  {
   "cell_type": "code",
   "execution_count": 24,
   "id": "8bcbf713",
   "metadata": {},
   "outputs": [
    {
     "data": {
      "text/plain": [
       "948"
      ]
     },
     "execution_count": 24,
     "metadata": {},
     "output_type": "execute_result"
    }
   ],
   "source": [
    "len(to.valid)"
   ]
  },
  {
   "cell_type": "code",
   "execution_count": 25,
   "id": "0c69bd87",
   "metadata": {},
   "outputs": [
    {
     "data": {
      "text/html": [
       "<table border=\"1\" class=\"dataframe\">\n",
       "  <thead>\n",
       "    <tr style=\"text-align: right;\">\n",
       "      <th></th>\n",
       "      <th>property_id</th>\n",
       "      <th>property_type</th>\n",
       "      <th>first_observed_Year</th>\n",
       "      <th>first_observed_Is_month_end</th>\n",
       "      <th>first_observed_Is_month_start</th>\n",
       "      <th>first_observed_Is_quarter_end</th>\n",
       "      <th>first_observed_Is_quarter_start</th>\n",
       "      <th>first_observed_Is_year_end</th>\n",
       "      <th>first_observed_Is_year_start</th>\n",
       "      <th>last_observed_Year</th>\n",
       "      <th>last_observed_Is_month_end</th>\n",
       "      <th>last_observed_Is_month_start</th>\n",
       "      <th>last_observed_Is_quarter_end</th>\n",
       "      <th>last_observed_Is_quarter_start</th>\n",
       "      <th>last_observed_Is_year_end</th>\n",
       "      <th>last_observed_Is_year_start</th>\n",
       "      <th>num_bathrooms_na</th>\n",
       "      <th>num_bedrooms_na</th>\n",
       "      <th>marketplace_hash_na</th>\n",
       "      <th>num_parking_lots_na</th>\n",
       "      <th>event</th>\n",
       "      <th>surface_total</th>\n",
       "      <th>num_bathrooms</th>\n",
       "      <th>num_bedrooms</th>\n",
       "      <th>marketplace_hash</th>\n",
       "      <th>seller_hash</th>\n",
       "      <th>num_parking_lots</th>\n",
       "      <th>first_price</th>\n",
       "      <th>last_price</th>\n",
       "      <th>longitude</th>\n",
       "      <th>latitude</th>\n",
       "      <th>views</th>\n",
       "      <th>num_marketplaces_property_at</th>\n",
       "      <th>has_balcony</th>\n",
       "      <th>has_elevator</th>\n",
       "      <th>has_garden</th>\n",
       "      <th>has_gym</th>\n",
       "      <th>has_luxury_features</th>\n",
       "      <th>has_pool</th>\n",
       "      <th>has_studio</th>\n",
       "      <th>has_surveillance</th>\n",
       "      <th>has_terrace</th>\n",
       "      <th>has_visitors_parking</th>\n",
       "      <th>has_washing_area</th>\n",
       "      <th>first_observed_Month</th>\n",
       "      <th>first_observed_Week</th>\n",
       "      <th>first_observed_Day</th>\n",
       "      <th>first_observed_Dayofweek</th>\n",
       "      <th>first_observed_Dayofyear</th>\n",
       "      <th>first_observed_Elapsed</th>\n",
       "      <th>last_observed_Month</th>\n",
       "      <th>last_observed_Week</th>\n",
       "      <th>last_observed_Day</th>\n",
       "      <th>last_observed_Dayofweek</th>\n",
       "      <th>last_observed_Dayofyear</th>\n",
       "      <th>last_observed_Elapsed</th>\n",
       "      <th>time2event</th>\n",
       "    </tr>\n",
       "  </thead>\n",
       "  <tbody>\n",
       "    <tr>\n",
       "      <th>3018</th>\n",
       "      <td>d693c069-241d-48f1-bcf1-d5d290e9618d</td>\n",
       "      <td>apartment</td>\n",
       "      <td>2023</td>\n",
       "      <td>False</td>\n",
       "      <td>False</td>\n",
       "      <td>False</td>\n",
       "      <td>False</td>\n",
       "      <td>False</td>\n",
       "      <td>False</td>\n",
       "      <td>2023</td>\n",
       "      <td>False</td>\n",
       "      <td>False</td>\n",
       "      <td>False</td>\n",
       "      <td>False</td>\n",
       "      <td>False</td>\n",
       "      <td>False</td>\n",
       "      <td>False</td>\n",
       "      <td>False</td>\n",
       "      <td>False</td>\n",
       "      <td>False</td>\n",
       "      <td>1.0</td>\n",
       "      <td>60.0</td>\n",
       "      <td>1.0</td>\n",
       "      <td>1.0</td>\n",
       "      <td>8.261012e+18</td>\n",
       "      <td>3.770271e+17</td>\n",
       "      <td>1.0</td>\n",
       "      <td>2885000.0</td>\n",
       "      <td>2885000.0</td>\n",
       "      <td>-99.147835</td>\n",
       "      <td>19.432165</td>\n",
       "      <td>58.0</td>\n",
       "      <td>3.0</td>\n",
       "      <td>1.0</td>\n",
       "      <td>1.0</td>\n",
       "      <td>1.0</td>\n",
       "      <td>1.0</td>\n",
       "      <td>0.0</td>\n",
       "      <td>0.0</td>\n",
       "      <td>0.0</td>\n",
       "      <td>0.0</td>\n",
       "      <td>1.0</td>\n",
       "      <td>0.0</td>\n",
       "      <td>1.0</td>\n",
       "      <td>5.0</td>\n",
       "      <td>19.0</td>\n",
       "      <td>11.0</td>\n",
       "      <td>3.0</td>\n",
       "      <td>131.0</td>\n",
       "      <td>1.683769e+09</td>\n",
       "      <td>8.0</td>\n",
       "      <td>32.0</td>\n",
       "      <td>7.0</td>\n",
       "      <td>-1.110223e-16</td>\n",
       "      <td>219.0</td>\n",
       "      <td>1.691442e+09</td>\n",
       "      <td>4.477337</td>\n",
       "    </tr>\n",
       "    <tr>\n",
       "      <th>995</th>\n",
       "      <td>95c38859-9580-430e-b8a9-cfe7e927da63</td>\n",
       "      <td>apartment</td>\n",
       "      <td>2023</td>\n",
       "      <td>False</td>\n",
       "      <td>False</td>\n",
       "      <td>False</td>\n",
       "      <td>False</td>\n",
       "      <td>False</td>\n",
       "      <td>False</td>\n",
       "      <td>2023</td>\n",
       "      <td>False</td>\n",
       "      <td>False</td>\n",
       "      <td>False</td>\n",
       "      <td>False</td>\n",
       "      <td>False</td>\n",
       "      <td>False</td>\n",
       "      <td>False</td>\n",
       "      <td>False</td>\n",
       "      <td>False</td>\n",
       "      <td>False</td>\n",
       "      <td>1.0</td>\n",
       "      <td>75.0</td>\n",
       "      <td>1.0</td>\n",
       "      <td>3.0</td>\n",
       "      <td>1.657070e+18</td>\n",
       "      <td>3.770271e+17</td>\n",
       "      <td>1.0</td>\n",
       "      <td>1650000.0</td>\n",
       "      <td>1650000.0</td>\n",
       "      <td>-99.038651</td>\n",
       "      <td>19.389332</td>\n",
       "      <td>28.0</td>\n",
       "      <td>5.0</td>\n",
       "      <td>0.0</td>\n",
       "      <td>0.0</td>\n",
       "      <td>0.0</td>\n",
       "      <td>0.0</td>\n",
       "      <td>0.0</td>\n",
       "      <td>0.0</td>\n",
       "      <td>0.0</td>\n",
       "      <td>0.0</td>\n",
       "      <td>0.0</td>\n",
       "      <td>0.0</td>\n",
       "      <td>1.0</td>\n",
       "      <td>8.0</td>\n",
       "      <td>32.0</td>\n",
       "      <td>13.0</td>\n",
       "      <td>6.0</td>\n",
       "      <td>225.0</td>\n",
       "      <td>1.691911e+09</td>\n",
       "      <td>9.0</td>\n",
       "      <td>39.0</td>\n",
       "      <td>29.0</td>\n",
       "      <td>4.000000e+00</td>\n",
       "      <td>272.0</td>\n",
       "      <td>1.696004e+09</td>\n",
       "      <td>3.850147</td>\n",
       "    </tr>\n",
       "    <tr>\n",
       "      <th>871</th>\n",
       "      <td>5d21104d-9b36-423a-8f40-1278aff8a295</td>\n",
       "      <td>apartment</td>\n",
       "      <td>2023</td>\n",
       "      <td>False</td>\n",
       "      <td>False</td>\n",
       "      <td>False</td>\n",
       "      <td>False</td>\n",
       "      <td>False</td>\n",
       "      <td>False</td>\n",
       "      <td>2023</td>\n",
       "      <td>False</td>\n",
       "      <td>False</td>\n",
       "      <td>False</td>\n",
       "      <td>False</td>\n",
       "      <td>False</td>\n",
       "      <td>False</td>\n",
       "      <td>False</td>\n",
       "      <td>False</td>\n",
       "      <td>False</td>\n",
       "      <td>False</td>\n",
       "      <td>1.0</td>\n",
       "      <td>335.0</td>\n",
       "      <td>3.0</td>\n",
       "      <td>3.0</td>\n",
       "      <td>1.657070e+18</td>\n",
       "      <td>3.770271e+17</td>\n",
       "      <td>3.0</td>\n",
       "      <td>12800000.0</td>\n",
       "      <td>12800000.0</td>\n",
       "      <td>-99.253662</td>\n",
       "      <td>19.385706</td>\n",
       "      <td>43.0</td>\n",
       "      <td>7.0</td>\n",
       "      <td>0.0</td>\n",
       "      <td>0.0</td>\n",
       "      <td>1.0</td>\n",
       "      <td>1.0</td>\n",
       "      <td>0.0</td>\n",
       "      <td>0.0</td>\n",
       "      <td>1.0</td>\n",
       "      <td>0.0</td>\n",
       "      <td>0.0</td>\n",
       "      <td>0.0</td>\n",
       "      <td>0.0</td>\n",
       "      <td>4.0</td>\n",
       "      <td>16.0</td>\n",
       "      <td>21.0</td>\n",
       "      <td>4.0</td>\n",
       "      <td>111.0</td>\n",
       "      <td>1.682060e+09</td>\n",
       "      <td>8.0</td>\n",
       "      <td>34.0</td>\n",
       "      <td>23.0</td>\n",
       "      <td>2.000000e+00</td>\n",
       "      <td>235.0</td>\n",
       "      <td>1.692764e+09</td>\n",
       "      <td>4.812184</td>\n",
       "    </tr>\n",
       "  </tbody>\n",
       "</table>"
      ],
      "text/plain": [
       "<IPython.core.display.HTML object>"
      ]
     },
     "metadata": {},
     "output_type": "display_data"
    }
   ],
   "source": [
    "to.show(3)"
   ]
  },
  {
   "cell_type": "code",
   "execution_count": null,
   "id": "ac4609b4",
   "metadata": {},
   "outputs": [],
   "source": []
  },
  {
   "cell_type": "code",
   "execution_count": 20,
   "id": "62d2fc13",
   "metadata": {},
   "outputs": [
    {
     "data": {
      "text/plain": [
       "['property_id',\n",
       " 'property_type',\n",
       " 'first_observed_Year',\n",
       " 'first_observed_Is_month_end',\n",
       " 'first_observed_Is_month_start',\n",
       " 'first_observed_Is_quarter_end',\n",
       " 'first_observed_Is_quarter_start',\n",
       " 'first_observed_Is_year_end',\n",
       " 'first_observed_Is_year_start',\n",
       " 'last_observed_Year',\n",
       " 'last_observed_Is_month_end',\n",
       " 'last_observed_Is_month_start',\n",
       " 'last_observed_Is_quarter_end',\n",
       " 'last_observed_Is_quarter_start',\n",
       " 'last_observed_Is_year_end',\n",
       " 'last_observed_Is_year_start',\n",
       " 'num_bathrooms_na',\n",
       " 'num_bedrooms_na',\n",
       " 'marketplace_hash_na',\n",
       " 'num_parking_lots_na']"
      ]
     },
     "execution_count": 20,
     "metadata": {},
     "output_type": "execute_result"
    }
   ],
   "source": [
    "cat"
   ]
  },
  {
   "cell_type": "code",
   "execution_count": 21,
   "id": "450b6a90",
   "metadata": {},
   "outputs": [
    {
     "data": {
      "text/plain": [
       "['#na#', 'apartment', 'house']"
      ]
     },
     "execution_count": 21,
     "metadata": {},
     "output_type": "execute_result"
    }
   ],
   "source": [
    "to.classes[\"property_type\"]"
   ]
  },
  {
   "cell_type": "code",
   "execution_count": 22,
   "id": "1acc84b4",
   "metadata": {},
   "outputs": [],
   "source": [
    "save_pickle(path/'to.pkl',to)"
   ]
  },
  {
   "cell_type": "code",
   "execution_count": 23,
   "id": "d96cebe8",
   "metadata": {},
   "outputs": [],
   "source": [
    "to = load_pickle(path/'to.pkl')"
   ]
  },
  {
   "cell_type": "code",
   "execution_count": 26,
   "id": "56942fb2",
   "metadata": {},
   "outputs": [],
   "source": [
    "xs,y = to.train.xs,to.train.y\n",
    "valid_xs,valid_y = to.valid.xs,to.valid.y"
   ]
  },
  {
   "cell_type": "markdown",
   "id": "35521377",
   "metadata": {},
   "source": [
    "### Survival experiment"
   ]
  },
  {
   "cell_type": "code",
   "execution_count": 36,
   "id": "5de2498d",
   "metadata": {},
   "outputs": [
    {
     "data": {
      "text/html": [
       "<div>\n",
       "<style scoped>\n",
       "    .dataframe tbody tr th:only-of-type {\n",
       "        vertical-align: middle;\n",
       "    }\n",
       "\n",
       "    .dataframe tbody tr th {\n",
       "        vertical-align: top;\n",
       "    }\n",
       "\n",
       "    .dataframe thead th {\n",
       "        text-align: right;\n",
       "    }\n",
       "</style>\n",
       "<table border=\"1\" class=\"dataframe\">\n",
       "  <thead>\n",
       "    <tr style=\"text-align: right;\">\n",
       "      <th></th>\n",
       "      <th>property_id</th>\n",
       "      <th>event</th>\n",
       "      <th>time2event</th>\n",
       "      <th>property_type</th>\n",
       "      <th>surface_total</th>\n",
       "      <th>num_bathrooms</th>\n",
       "      <th>num_bedrooms</th>\n",
       "      <th>marketplace_hash</th>\n",
       "      <th>seller_hash</th>\n",
       "      <th>num_parking_lots</th>\n",
       "      <th>...</th>\n",
       "      <th>last_observed_Is_month_start</th>\n",
       "      <th>last_observed_Is_quarter_end</th>\n",
       "      <th>last_observed_Is_quarter_start</th>\n",
       "      <th>last_observed_Is_year_end</th>\n",
       "      <th>last_observed_Is_year_start</th>\n",
       "      <th>last_observed_Elapsed</th>\n",
       "      <th>num_bathrooms_na</th>\n",
       "      <th>num_bedrooms_na</th>\n",
       "      <th>marketplace_hash_na</th>\n",
       "      <th>num_parking_lots_na</th>\n",
       "    </tr>\n",
       "  </thead>\n",
       "  <tbody>\n",
       "    <tr>\n",
       "      <th>3018</th>\n",
       "      <td>3969</td>\n",
       "      <td>0.824234</td>\n",
       "      <td>4.477337</td>\n",
       "      <td>1</td>\n",
       "      <td>-0.745699</td>\n",
       "      <td>-1.243318</td>\n",
       "      <td>-1.719925</td>\n",
       "      <td>1.014877</td>\n",
       "      <td>0.106958</td>\n",
       "      <td>-0.832433</td>\n",
       "      <td>...</td>\n",
       "      <td>1</td>\n",
       "      <td>1</td>\n",
       "      <td>1</td>\n",
       "      <td>1</td>\n",
       "      <td>1</td>\n",
       "      <td>-0.357148</td>\n",
       "      <td>1</td>\n",
       "      <td>1</td>\n",
       "      <td>1</td>\n",
       "      <td>1</td>\n",
       "    </tr>\n",
       "    <tr>\n",
       "      <th>995</th>\n",
       "      <td>2773</td>\n",
       "      <td>0.824234</td>\n",
       "      <td>3.850147</td>\n",
       "      <td>1</td>\n",
       "      <td>-0.648656</td>\n",
       "      <td>-1.243318</td>\n",
       "      <td>0.438234</td>\n",
       "      <td>-0.612160</td>\n",
       "      <td>0.106958</td>\n",
       "      <td>-0.832433</td>\n",
       "      <td>...</td>\n",
       "      <td>1</td>\n",
       "      <td>1</td>\n",
       "      <td>1</td>\n",
       "      <td>1</td>\n",
       "      <td>1</td>\n",
       "      <td>0.661804</td>\n",
       "      <td>1</td>\n",
       "      <td>1</td>\n",
       "      <td>1</td>\n",
       "      <td>1</td>\n",
       "    </tr>\n",
       "    <tr>\n",
       "      <th>871</th>\n",
       "      <td>1740</td>\n",
       "      <td>0.824234</td>\n",
       "      <td>4.812184</td>\n",
       "      <td>1</td>\n",
       "      <td>1.033422</td>\n",
       "      <td>0.731410</td>\n",
       "      <td>0.438234</td>\n",
       "      <td>-0.612160</td>\n",
       "      <td>0.106958</td>\n",
       "      <td>0.843660</td>\n",
       "      <td>...</td>\n",
       "      <td>1</td>\n",
       "      <td>1</td>\n",
       "      <td>1</td>\n",
       "      <td>1</td>\n",
       "      <td>1</td>\n",
       "      <td>-0.061926</td>\n",
       "      <td>1</td>\n",
       "      <td>1</td>\n",
       "      <td>1</td>\n",
       "      <td>1</td>\n",
       "    </tr>\n",
       "    <tr>\n",
       "      <th>3343</th>\n",
       "      <td>3739</td>\n",
       "      <td>-1.213247</td>\n",
       "      <td>4.644391</td>\n",
       "      <td>2</td>\n",
       "      <td>3.019568</td>\n",
       "      <td>1.718774</td>\n",
       "      <td>1.517313</td>\n",
       "      <td>0.574689</td>\n",
       "      <td>-0.603676</td>\n",
       "      <td>0.005614</td>\n",
       "      <td>...</td>\n",
       "      <td>1</td>\n",
       "      <td>1</td>\n",
       "      <td>1</td>\n",
       "      <td>1</td>\n",
       "      <td>1</td>\n",
       "      <td>0.856703</td>\n",
       "      <td>1</td>\n",
       "      <td>1</td>\n",
       "      <td>1</td>\n",
       "      <td>1</td>\n",
       "    </tr>\n",
       "    <tr>\n",
       "      <th>2000</th>\n",
       "      <td>985</td>\n",
       "      <td>0.824234</td>\n",
       "      <td>2.833213</td>\n",
       "      <td>1</td>\n",
       "      <td>-0.571022</td>\n",
       "      <td>-0.255954</td>\n",
       "      <td>-0.640846</td>\n",
       "      <td>1.014877</td>\n",
       "      <td>-0.867200</td>\n",
       "      <td>0.005614</td>\n",
       "      <td>...</td>\n",
       "      <td>1</td>\n",
       "      <td>1</td>\n",
       "      <td>1</td>\n",
       "      <td>1</td>\n",
       "      <td>1</td>\n",
       "      <td>0.181233</td>\n",
       "      <td>1</td>\n",
       "      <td>1</td>\n",
       "      <td>1</td>\n",
       "      <td>1</td>\n",
       "    </tr>\n",
       "    <tr>\n",
       "      <th>...</th>\n",
       "      <td>...</td>\n",
       "      <td>...</td>\n",
       "      <td>...</td>\n",
       "      <td>...</td>\n",
       "      <td>...</td>\n",
       "      <td>...</td>\n",
       "      <td>...</td>\n",
       "      <td>...</td>\n",
       "      <td>...</td>\n",
       "      <td>...</td>\n",
       "      <td>...</td>\n",
       "      <td>...</td>\n",
       "      <td>...</td>\n",
       "      <td>...</td>\n",
       "      <td>...</td>\n",
       "      <td>...</td>\n",
       "      <td>...</td>\n",
       "      <td>...</td>\n",
       "      <td>...</td>\n",
       "      <td>...</td>\n",
       "      <td>...</td>\n",
       "    </tr>\n",
       "    <tr>\n",
       "      <th>3306</th>\n",
       "      <td>1806</td>\n",
       "      <td>0.824234</td>\n",
       "      <td>3.555348</td>\n",
       "      <td>1</td>\n",
       "      <td>-0.228137</td>\n",
       "      <td>0.237728</td>\n",
       "      <td>0.438234</td>\n",
       "      <td>0.574689</td>\n",
       "      <td>-1.065738</td>\n",
       "      <td>0.005614</td>\n",
       "      <td>...</td>\n",
       "      <td>1</td>\n",
       "      <td>1</td>\n",
       "      <td>1</td>\n",
       "      <td>1</td>\n",
       "      <td>1</td>\n",
       "      <td>-2.107435</td>\n",
       "      <td>1</td>\n",
       "      <td>1</td>\n",
       "      <td>1</td>\n",
       "      <td>1</td>\n",
       "    </tr>\n",
       "    <tr>\n",
       "      <th>2084</th>\n",
       "      <td>3123</td>\n",
       "      <td>-1.213247</td>\n",
       "      <td>3.295837</td>\n",
       "      <td>1</td>\n",
       "      <td>-0.001703</td>\n",
       "      <td>0.731410</td>\n",
       "      <td>1.517313</td>\n",
       "      <td>1.014877</td>\n",
       "      <td>0.236438</td>\n",
       "      <td>-0.832433</td>\n",
       "      <td>...</td>\n",
       "      <td>1</td>\n",
       "      <td>1</td>\n",
       "      <td>1</td>\n",
       "      <td>1</td>\n",
       "      <td>1</td>\n",
       "      <td>0.854959</td>\n",
       "      <td>1</td>\n",
       "      <td>1</td>\n",
       "      <td>1</td>\n",
       "      <td>1</td>\n",
       "    </tr>\n",
       "    <tr>\n",
       "      <th>3014</th>\n",
       "      <td>2090</td>\n",
       "      <td>-1.213247</td>\n",
       "      <td>3.713572</td>\n",
       "      <td>1</td>\n",
       "      <td>-0.726291</td>\n",
       "      <td>-0.255954</td>\n",
       "      <td>-0.640846</td>\n",
       "      <td>0.574689</td>\n",
       "      <td>0.106958</td>\n",
       "      <td>-0.832433</td>\n",
       "      <td>...</td>\n",
       "      <td>1</td>\n",
       "      <td>1</td>\n",
       "      <td>1</td>\n",
       "      <td>1</td>\n",
       "      <td>1</td>\n",
       "      <td>0.856703</td>\n",
       "      <td>1</td>\n",
       "      <td>1</td>\n",
       "      <td>1</td>\n",
       "      <td>1</td>\n",
       "    </tr>\n",
       "    <tr>\n",
       "      <th>3722</th>\n",
       "      <td>1279</td>\n",
       "      <td>-1.213247</td>\n",
       "      <td>3.178054</td>\n",
       "      <td>2</td>\n",
       "      <td>0.968726</td>\n",
       "      <td>1.718774</td>\n",
       "      <td>3.675472</td>\n",
       "      <td>0.574689</td>\n",
       "      <td>1.377778</td>\n",
       "      <td>0.843660</td>\n",
       "      <td>...</td>\n",
       "      <td>1</td>\n",
       "      <td>1</td>\n",
       "      <td>1</td>\n",
       "      <td>1</td>\n",
       "      <td>1</td>\n",
       "      <td>0.856789</td>\n",
       "      <td>1</td>\n",
       "      <td>1</td>\n",
       "      <td>1</td>\n",
       "      <td>1</td>\n",
       "    </tr>\n",
       "    <tr>\n",
       "      <th>2036</th>\n",
       "      <td>1889</td>\n",
       "      <td>0.824234</td>\n",
       "      <td>4.836282</td>\n",
       "      <td>1</td>\n",
       "      <td>-0.829803</td>\n",
       "      <td>-1.243318</td>\n",
       "      <td>-0.640846</td>\n",
       "      <td>1.014877</td>\n",
       "      <td>0.106958</td>\n",
       "      <td>-0.832433</td>\n",
       "      <td>...</td>\n",
       "      <td>1</td>\n",
       "      <td>1</td>\n",
       "      <td>1</td>\n",
       "      <td>1</td>\n",
       "      <td>1</td>\n",
       "      <td>0.720128</td>\n",
       "      <td>1</td>\n",
       "      <td>1</td>\n",
       "      <td>1</td>\n",
       "      <td>1</td>\n",
       "    </tr>\n",
       "  </tbody>\n",
       "</table>\n",
       "<p>3792 rows × 57 columns</p>\n",
       "</div>"
      ],
      "text/plain": [
       "      property_id     event  time2event  property_type  surface_total  \\\n",
       "3018         3969  0.824234    4.477337              1      -0.745699   \n",
       "995          2773  0.824234    3.850147              1      -0.648656   \n",
       "871          1740  0.824234    4.812184              1       1.033422   \n",
       "3343         3739 -1.213247    4.644391              2       3.019568   \n",
       "2000          985  0.824234    2.833213              1      -0.571022   \n",
       "...           ...       ...         ...            ...            ...   \n",
       "3306         1806  0.824234    3.555348              1      -0.228137   \n",
       "2084         3123 -1.213247    3.295837              1      -0.001703   \n",
       "3014         2090 -1.213247    3.713572              1      -0.726291   \n",
       "3722         1279 -1.213247    3.178054              2       0.968726   \n",
       "2036         1889  0.824234    4.836282              1      -0.829803   \n",
       "\n",
       "      num_bathrooms  num_bedrooms  marketplace_hash  seller_hash  \\\n",
       "3018      -1.243318     -1.719925          1.014877     0.106958   \n",
       "995       -1.243318      0.438234         -0.612160     0.106958   \n",
       "871        0.731410      0.438234         -0.612160     0.106958   \n",
       "3343       1.718774      1.517313          0.574689    -0.603676   \n",
       "2000      -0.255954     -0.640846          1.014877    -0.867200   \n",
       "...             ...           ...               ...          ...   \n",
       "3306       0.237728      0.438234          0.574689    -1.065738   \n",
       "2084       0.731410      1.517313          1.014877     0.236438   \n",
       "3014      -0.255954     -0.640846          0.574689     0.106958   \n",
       "3722       1.718774      3.675472          0.574689     1.377778   \n",
       "2036      -1.243318     -0.640846          1.014877     0.106958   \n",
       "\n",
       "      num_parking_lots  ...  last_observed_Is_month_start  \\\n",
       "3018         -0.832433  ...                             1   \n",
       "995          -0.832433  ...                             1   \n",
       "871           0.843660  ...                             1   \n",
       "3343          0.005614  ...                             1   \n",
       "2000          0.005614  ...                             1   \n",
       "...                ...  ...                           ...   \n",
       "3306          0.005614  ...                             1   \n",
       "2084         -0.832433  ...                             1   \n",
       "3014         -0.832433  ...                             1   \n",
       "3722          0.843660  ...                             1   \n",
       "2036         -0.832433  ...                             1   \n",
       "\n",
       "      last_observed_Is_quarter_end  last_observed_Is_quarter_start  \\\n",
       "3018                             1                               1   \n",
       "995                              1                               1   \n",
       "871                              1                               1   \n",
       "3343                             1                               1   \n",
       "2000                             1                               1   \n",
       "...                            ...                             ...   \n",
       "3306                             1                               1   \n",
       "2084                             1                               1   \n",
       "3014                             1                               1   \n",
       "3722                             1                               1   \n",
       "2036                             1                               1   \n",
       "\n",
       "      last_observed_Is_year_end  last_observed_Is_year_start  \\\n",
       "3018                          1                            1   \n",
       "995                           1                            1   \n",
       "871                           1                            1   \n",
       "3343                          1                            1   \n",
       "2000                          1                            1   \n",
       "...                         ...                          ...   \n",
       "3306                          1                            1   \n",
       "2084                          1                            1   \n",
       "3014                          1                            1   \n",
       "3722                          1                            1   \n",
       "2036                          1                            1   \n",
       "\n",
       "      last_observed_Elapsed  num_bathrooms_na  num_bedrooms_na  \\\n",
       "3018              -0.357148                 1                1   \n",
       "995                0.661804                 1                1   \n",
       "871               -0.061926                 1                1   \n",
       "3343               0.856703                 1                1   \n",
       "2000               0.181233                 1                1   \n",
       "...                     ...               ...              ...   \n",
       "3306              -2.107435                 1                1   \n",
       "2084               0.854959                 1                1   \n",
       "3014               0.856703                 1                1   \n",
       "3722               0.856789                 1                1   \n",
       "2036               0.720128                 1                1   \n",
       "\n",
       "      marketplace_hash_na  num_parking_lots_na  \n",
       "3018                    1                    1  \n",
       "995                     1                    1  \n",
       "871                     1                    1  \n",
       "3343                    1                    1  \n",
       "2000                    1                    1  \n",
       "...                   ...                  ...  \n",
       "3306                    1                    1  \n",
       "2084                    1                    1  \n",
       "3014                    1                    1  \n",
       "3722                    1                    1  \n",
       "2036                    1                    1  \n",
       "\n",
       "[3792 rows x 57 columns]"
      ]
     },
     "execution_count": 36,
     "metadata": {},
     "output_type": "execute_result"
    }
   ],
   "source": [
    "to.train.items"
   ]
  },
  {
   "cell_type": "code",
   "execution_count": 38,
   "id": "03708c62",
   "metadata": {},
   "outputs": [
    {
     "data": {
      "text/plain": [
       "array([ 0.82423418, -1.21324693])"
      ]
     },
     "execution_count": 38,
     "metadata": {},
     "output_type": "execute_result"
    }
   ],
   "source": [
    "to.train.items.event.unique()"
   ]
  },
  {
   "cell_type": "code",
   "execution_count": 39,
   "id": "67de5a52",
   "metadata": {},
   "outputs": [],
   "source": [
    "df_sur = to.train.items"
   ]
  },
  {
   "cell_type": "code",
   "execution_count": 45,
   "id": "09c71e96",
   "metadata": {},
   "outputs": [],
   "source": [
    "# Function to replace values with a tolerance\n",
    "def replace_with_tolerance(series, to_replace, value, tolerance=1e-8):\n",
    "    return series.apply(lambda x: value if np.isclose(x, to_replace, atol=tolerance) else x)"
   ]
  },
  {
   "cell_type": "code",
   "execution_count": 47,
   "id": "abb261d0",
   "metadata": {},
   "outputs": [],
   "source": [
    "# Replace values with a tolerance\n",
    "df_sur['event'] = replace_with_tolerance(df_sur['event'], 0.82423418, 1)\n",
    "df_sur['event'] = replace_with_tolerance(df_sur['event'], -1.21324693, 0)"
   ]
  },
  {
   "cell_type": "code",
   "execution_count": 48,
   "id": "9847d4f1",
   "metadata": {},
   "outputs": [
    {
     "data": {
      "text/html": [
       "<div>\n",
       "<style scoped>\n",
       "    .dataframe tbody tr th:only-of-type {\n",
       "        vertical-align: middle;\n",
       "    }\n",
       "\n",
       "    .dataframe tbody tr th {\n",
       "        vertical-align: top;\n",
       "    }\n",
       "\n",
       "    .dataframe thead th {\n",
       "        text-align: right;\n",
       "    }\n",
       "</style>\n",
       "<table border=\"1\" class=\"dataframe\">\n",
       "  <thead>\n",
       "    <tr style=\"text-align: right;\">\n",
       "      <th></th>\n",
       "      <th>property_id</th>\n",
       "      <th>event</th>\n",
       "      <th>time2event</th>\n",
       "      <th>property_type</th>\n",
       "      <th>surface_total</th>\n",
       "      <th>num_bathrooms</th>\n",
       "      <th>num_bedrooms</th>\n",
       "      <th>marketplace_hash</th>\n",
       "      <th>seller_hash</th>\n",
       "      <th>num_parking_lots</th>\n",
       "      <th>...</th>\n",
       "      <th>last_observed_Is_month_start</th>\n",
       "      <th>last_observed_Is_quarter_end</th>\n",
       "      <th>last_observed_Is_quarter_start</th>\n",
       "      <th>last_observed_Is_year_end</th>\n",
       "      <th>last_observed_Is_year_start</th>\n",
       "      <th>last_observed_Elapsed</th>\n",
       "      <th>num_bathrooms_na</th>\n",
       "      <th>num_bedrooms_na</th>\n",
       "      <th>marketplace_hash_na</th>\n",
       "      <th>num_parking_lots_na</th>\n",
       "    </tr>\n",
       "  </thead>\n",
       "  <tbody>\n",
       "    <tr>\n",
       "      <th>3018</th>\n",
       "      <td>3969</td>\n",
       "      <td>1.0</td>\n",
       "      <td>4.477337</td>\n",
       "      <td>1</td>\n",
       "      <td>-0.745699</td>\n",
       "      <td>-1.243318</td>\n",
       "      <td>-1.719925</td>\n",
       "      <td>1.014877</td>\n",
       "      <td>0.106958</td>\n",
       "      <td>-0.832433</td>\n",
       "      <td>...</td>\n",
       "      <td>1</td>\n",
       "      <td>1</td>\n",
       "      <td>1</td>\n",
       "      <td>1</td>\n",
       "      <td>1</td>\n",
       "      <td>-0.357148</td>\n",
       "      <td>1</td>\n",
       "      <td>1</td>\n",
       "      <td>1</td>\n",
       "      <td>1</td>\n",
       "    </tr>\n",
       "    <tr>\n",
       "      <th>995</th>\n",
       "      <td>2773</td>\n",
       "      <td>1.0</td>\n",
       "      <td>3.850147</td>\n",
       "      <td>1</td>\n",
       "      <td>-0.648656</td>\n",
       "      <td>-1.243318</td>\n",
       "      <td>0.438234</td>\n",
       "      <td>-0.612160</td>\n",
       "      <td>0.106958</td>\n",
       "      <td>-0.832433</td>\n",
       "      <td>...</td>\n",
       "      <td>1</td>\n",
       "      <td>1</td>\n",
       "      <td>1</td>\n",
       "      <td>1</td>\n",
       "      <td>1</td>\n",
       "      <td>0.661804</td>\n",
       "      <td>1</td>\n",
       "      <td>1</td>\n",
       "      <td>1</td>\n",
       "      <td>1</td>\n",
       "    </tr>\n",
       "  </tbody>\n",
       "</table>\n",
       "<p>2 rows × 57 columns</p>\n",
       "</div>"
      ],
      "text/plain": [
       "      property_id  event  time2event  property_type  surface_total  \\\n",
       "3018         3969    1.0    4.477337              1      -0.745699   \n",
       "995          2773    1.0    3.850147              1      -0.648656   \n",
       "\n",
       "      num_bathrooms  num_bedrooms  marketplace_hash  seller_hash  \\\n",
       "3018      -1.243318     -1.719925          1.014877     0.106958   \n",
       "995       -1.243318      0.438234         -0.612160     0.106958   \n",
       "\n",
       "      num_parking_lots  ...  last_observed_Is_month_start  \\\n",
       "3018         -0.832433  ...                             1   \n",
       "995          -0.832433  ...                             1   \n",
       "\n",
       "      last_observed_Is_quarter_end  last_observed_Is_quarter_start  \\\n",
       "3018                             1                               1   \n",
       "995                              1                               1   \n",
       "\n",
       "      last_observed_Is_year_end  last_observed_Is_year_start  \\\n",
       "3018                          1                            1   \n",
       "995                           1                            1   \n",
       "\n",
       "      last_observed_Elapsed  num_bathrooms_na  num_bedrooms_na  \\\n",
       "3018              -0.357148                 1                1   \n",
       "995                0.661804                 1                1   \n",
       "\n",
       "      marketplace_hash_na  num_parking_lots_na  \n",
       "3018                    1                    1  \n",
       "995                     1                    1  \n",
       "\n",
       "[2 rows x 57 columns]"
      ]
     },
     "execution_count": 48,
     "metadata": {},
     "output_type": "execute_result"
    }
   ],
   "source": [
    "df_sur.head(2)"
   ]
  },
  {
   "cell_type": "code",
   "execution_count": null,
   "id": "68e5d8ef",
   "metadata": {},
   "outputs": [],
   "source": []
  },
  {
   "cell_type": "code",
   "execution_count": 27,
   "id": "1abb8fd5",
   "metadata": {},
   "outputs": [],
   "source": [
    "from lifelines import LogLogisticAFTFitter"
   ]
  },
  {
   "cell_type": "code",
   "execution_count": 28,
   "id": "9da61736",
   "metadata": {},
   "outputs": [],
   "source": [
    "model = LogLogisticAFTFitter()"
   ]
  },
  {
   "cell_type": "code",
   "execution_count": 50,
   "id": "99dbdf54",
   "metadata": {},
   "outputs": [
    {
     "name": "stderr",
     "output_type": "stream",
     "text": [
      "/home/samuel/miniconda3/envs/fastai2/lib/python3.10/site-packages/lifelines/fitters/__init__.py:2097: StatisticalWarning: The diagonal of the variance_matrix_ has negative values. This could be a problem with LogLogisticAFTFitter's fit to the data.\n",
      "\n",
      "It's advisable to not trust the variances reported, and to be suspicious of the fitted parameters too.\n",
      "\n"
     ]
    },
    {
     "data": {
      "text/plain": [
       "<lifelines.LogLogisticAFTFitter: fitted with 3792 total observations, 1534 right-censored observations>"
      ]
     },
     "execution_count": 50,
     "metadata": {},
     "output_type": "execute_result"
    }
   ],
   "source": [
    "model.fit(df_sur, duration_col=\"time2event\", event_col=\"event\")"
   ]
  },
  {
   "cell_type": "code",
   "execution_count": 54,
   "id": "dba52e79",
   "metadata": {},
   "outputs": [
    {
     "data": {
      "text/plain": [
       "(1534, 57)"
      ]
     },
     "execution_count": 54,
     "metadata": {},
     "output_type": "execute_result"
    }
   ],
   "source": [
    "df_sur.loc[df_sur[\"event\"]==0].shape"
   ]
  },
  {
   "cell_type": "code",
   "execution_count": 52,
   "id": "bfaaf625",
   "metadata": {},
   "outputs": [
    {
     "data": {
      "text/plain": [
       "<lifelines.LogLogisticAFTFitter: fitted with 3792 total observations, 1534 right-censored observations>"
      ]
     },
     "execution_count": 52,
     "metadata": {},
     "output_type": "execute_result"
    }
   ],
   "source": [
    "model"
   ]
  },
  {
   "cell_type": "code",
   "execution_count": 55,
   "id": "b6a70d25",
   "metadata": {},
   "outputs": [
    {
     "data": {
      "text/html": [
       "<div>\n",
       "<style scoped>\n",
       "    .dataframe tbody tr th:only-of-type {\n",
       "        vertical-align: middle;\n",
       "    }\n",
       "\n",
       "    .dataframe tbody tr th {\n",
       "        vertical-align: top;\n",
       "    }\n",
       "\n",
       "    .dataframe thead th {\n",
       "        text-align: right;\n",
       "    }\n",
       "</style>\n",
       "<table border=\"1\" class=\"dataframe\">\n",
       "  <thead>\n",
       "    <tr style=\"text-align: right;\">\n",
       "      <th></th>\n",
       "      <th></th>\n",
       "      <th>coef</th>\n",
       "      <th>exp(coef)</th>\n",
       "      <th>se(coef)</th>\n",
       "      <th>coef lower 95%</th>\n",
       "      <th>coef upper 95%</th>\n",
       "      <th>exp(coef) lower 95%</th>\n",
       "      <th>exp(coef) upper 95%</th>\n",
       "      <th>cmp to</th>\n",
       "      <th>z</th>\n",
       "      <th>p</th>\n",
       "      <th>-log2(p)</th>\n",
       "    </tr>\n",
       "    <tr>\n",
       "      <th>param</th>\n",
       "      <th>covariate</th>\n",
       "      <th></th>\n",
       "      <th></th>\n",
       "      <th></th>\n",
       "      <th></th>\n",
       "      <th></th>\n",
       "      <th></th>\n",
       "      <th></th>\n",
       "      <th></th>\n",
       "      <th></th>\n",
       "      <th></th>\n",
       "      <th></th>\n",
       "    </tr>\n",
       "  </thead>\n",
       "  <tbody>\n",
       "    <tr>\n",
       "      <th rowspan=\"10\" valign=\"top\">alpha_</th>\n",
       "      <th>first_observed_Day</th>\n",
       "      <td>-0.079249</td>\n",
       "      <td>0.923810</td>\n",
       "      <td>NaN</td>\n",
       "      <td>NaN</td>\n",
       "      <td>NaN</td>\n",
       "      <td>NaN</td>\n",
       "      <td>NaN</td>\n",
       "      <td>0.0</td>\n",
       "      <td>NaN</td>\n",
       "      <td>NaN</td>\n",
       "      <td>NaN</td>\n",
       "    </tr>\n",
       "    <tr>\n",
       "      <th>first_observed_Dayofweek</th>\n",
       "      <td>0.009188</td>\n",
       "      <td>1.009230</td>\n",
       "      <td>NaN</td>\n",
       "      <td>NaN</td>\n",
       "      <td>NaN</td>\n",
       "      <td>NaN</td>\n",
       "      <td>NaN</td>\n",
       "      <td>0.0</td>\n",
       "      <td>NaN</td>\n",
       "      <td>NaN</td>\n",
       "      <td>NaN</td>\n",
       "    </tr>\n",
       "    <tr>\n",
       "      <th>first_observed_Dayofyear</th>\n",
       "      <td>0.229849</td>\n",
       "      <td>1.258410</td>\n",
       "      <td>NaN</td>\n",
       "      <td>NaN</td>\n",
       "      <td>NaN</td>\n",
       "      <td>NaN</td>\n",
       "      <td>NaN</td>\n",
       "      <td>0.0</td>\n",
       "      <td>NaN</td>\n",
       "      <td>NaN</td>\n",
       "      <td>NaN</td>\n",
       "    </tr>\n",
       "    <tr>\n",
       "      <th>first_observed_Elapsed</th>\n",
       "      <td>-0.243542</td>\n",
       "      <td>0.783847</td>\n",
       "      <td>1.833817e+06</td>\n",
       "      <td>-3.594216e+06</td>\n",
       "      <td>3.594216e+06</td>\n",
       "      <td>0.000000</td>\n",
       "      <td>inf</td>\n",
       "      <td>0.0</td>\n",
       "      <td>-1.328058e-07</td>\n",
       "      <td>1.0</td>\n",
       "      <td>1.528733e-07</td>\n",
       "    </tr>\n",
       "    <tr>\n",
       "      <th>first_observed_Is_month_end</th>\n",
       "      <td>-0.001650</td>\n",
       "      <td>0.998352</td>\n",
       "      <td>NaN</td>\n",
       "      <td>NaN</td>\n",
       "      <td>NaN</td>\n",
       "      <td>NaN</td>\n",
       "      <td>NaN</td>\n",
       "      <td>0.0</td>\n",
       "      <td>NaN</td>\n",
       "      <td>NaN</td>\n",
       "      <td>NaN</td>\n",
       "    </tr>\n",
       "    <tr>\n",
       "      <th>...</th>\n",
       "      <td>...</td>\n",
       "      <td>...</td>\n",
       "      <td>...</td>\n",
       "      <td>...</td>\n",
       "      <td>...</td>\n",
       "      <td>...</td>\n",
       "      <td>...</td>\n",
       "      <td>...</td>\n",
       "      <td>...</td>\n",
       "      <td>...</td>\n",
       "      <td>...</td>\n",
       "    </tr>\n",
       "    <tr>\n",
       "      <th>seller_hash</th>\n",
       "      <td>0.000953</td>\n",
       "      <td>1.000954</td>\n",
       "      <td>-0.000000e+00</td>\n",
       "      <td>9.531303e-04</td>\n",
       "      <td>9.531303e-04</td>\n",
       "      <td>1.000954</td>\n",
       "      <td>1.000954</td>\n",
       "      <td>0.0</td>\n",
       "      <td>-inf</td>\n",
       "      <td>0.0</td>\n",
       "      <td>inf</td>\n",
       "    </tr>\n",
       "    <tr>\n",
       "      <th>surface_total</th>\n",
       "      <td>0.005608</td>\n",
       "      <td>1.005623</td>\n",
       "      <td>-0.000000e+00</td>\n",
       "      <td>5.607537e-03</td>\n",
       "      <td>5.607537e-03</td>\n",
       "      <td>1.005623</td>\n",
       "      <td>1.005623</td>\n",
       "      <td>0.0</td>\n",
       "      <td>-inf</td>\n",
       "      <td>0.0</td>\n",
       "      <td>inf</td>\n",
       "    </tr>\n",
       "    <tr>\n",
       "      <th>views</th>\n",
       "      <td>0.002178</td>\n",
       "      <td>1.002180</td>\n",
       "      <td>-0.000000e+00</td>\n",
       "      <td>2.177712e-03</td>\n",
       "      <td>2.177712e-03</td>\n",
       "      <td>1.002180</td>\n",
       "      <td>1.002180</td>\n",
       "      <td>0.0</td>\n",
       "      <td>-inf</td>\n",
       "      <td>0.0</td>\n",
       "      <td>inf</td>\n",
       "    </tr>\n",
       "    <tr>\n",
       "      <th>Intercept</th>\n",
       "      <td>-0.008554</td>\n",
       "      <td>0.991482</td>\n",
       "      <td>1.848380e+13</td>\n",
       "      <td>-3.622759e+13</td>\n",
       "      <td>3.622759e+13</td>\n",
       "      <td>0.000000</td>\n",
       "      <td>inf</td>\n",
       "      <td>0.0</td>\n",
       "      <td>-4.627832e-16</td>\n",
       "      <td>1.0</td>\n",
       "      <td>4.805140e-16</td>\n",
       "    </tr>\n",
       "    <tr>\n",
       "      <th>beta_</th>\n",
       "      <th>Intercept</th>\n",
       "      <td>3.024101</td>\n",
       "      <td>20.575507</td>\n",
       "      <td>NaN</td>\n",
       "      <td>NaN</td>\n",
       "      <td>NaN</td>\n",
       "      <td>NaN</td>\n",
       "      <td>NaN</td>\n",
       "      <td>0.0</td>\n",
       "      <td>NaN</td>\n",
       "      <td>NaN</td>\n",
       "      <td>NaN</td>\n",
       "    </tr>\n",
       "  </tbody>\n",
       "</table>\n",
       "<p>57 rows × 11 columns</p>\n",
       "</div>"
      ],
      "text/plain": [
       "                                        coef  exp(coef)      se(coef)  \\\n",
       "param  covariate                                                        \n",
       "alpha_ first_observed_Day          -0.079249   0.923810           NaN   \n",
       "       first_observed_Dayofweek     0.009188   1.009230           NaN   \n",
       "       first_observed_Dayofyear     0.229849   1.258410           NaN   \n",
       "       first_observed_Elapsed      -0.243542   0.783847  1.833817e+06   \n",
       "       first_observed_Is_month_end -0.001650   0.998352           NaN   \n",
       "...                                      ...        ...           ...   \n",
       "       seller_hash                  0.000953   1.000954 -0.000000e+00   \n",
       "       surface_total                0.005608   1.005623 -0.000000e+00   \n",
       "       views                        0.002178   1.002180 -0.000000e+00   \n",
       "       Intercept                   -0.008554   0.991482  1.848380e+13   \n",
       "beta_  Intercept                    3.024101  20.575507           NaN   \n",
       "\n",
       "                                    coef lower 95%  coef upper 95%  \\\n",
       "param  covariate                                                     \n",
       "alpha_ first_observed_Day                      NaN             NaN   \n",
       "       first_observed_Dayofweek                NaN             NaN   \n",
       "       first_observed_Dayofyear                NaN             NaN   \n",
       "       first_observed_Elapsed        -3.594216e+06    3.594216e+06   \n",
       "       first_observed_Is_month_end             NaN             NaN   \n",
       "...                                            ...             ...   \n",
       "       seller_hash                    9.531303e-04    9.531303e-04   \n",
       "       surface_total                  5.607537e-03    5.607537e-03   \n",
       "       views                          2.177712e-03    2.177712e-03   \n",
       "       Intercept                     -3.622759e+13    3.622759e+13   \n",
       "beta_  Intercept                               NaN             NaN   \n",
       "\n",
       "                                    exp(coef) lower 95%  exp(coef) upper 95%  \\\n",
       "param  covariate                                                               \n",
       "alpha_ first_observed_Day                           NaN                  NaN   \n",
       "       first_observed_Dayofweek                     NaN                  NaN   \n",
       "       first_observed_Dayofyear                     NaN                  NaN   \n",
       "       first_observed_Elapsed                  0.000000                  inf   \n",
       "       first_observed_Is_month_end                  NaN                  NaN   \n",
       "...                                                 ...                  ...   \n",
       "       seller_hash                             1.000954             1.000954   \n",
       "       surface_total                           1.005623             1.005623   \n",
       "       views                                   1.002180             1.002180   \n",
       "       Intercept                               0.000000                  inf   \n",
       "beta_  Intercept                                    NaN                  NaN   \n",
       "\n",
       "                                    cmp to             z    p      -log2(p)  \n",
       "param  covariate                                                             \n",
       "alpha_ first_observed_Day              0.0           NaN  NaN           NaN  \n",
       "       first_observed_Dayofweek        0.0           NaN  NaN           NaN  \n",
       "       first_observed_Dayofyear        0.0           NaN  NaN           NaN  \n",
       "       first_observed_Elapsed          0.0 -1.328058e-07  1.0  1.528733e-07  \n",
       "       first_observed_Is_month_end     0.0           NaN  NaN           NaN  \n",
       "...                                    ...           ...  ...           ...  \n",
       "       seller_hash                     0.0          -inf  0.0           inf  \n",
       "       surface_total                   0.0          -inf  0.0           inf  \n",
       "       views                           0.0          -inf  0.0           inf  \n",
       "       Intercept                       0.0 -4.627832e-16  1.0  4.805140e-16  \n",
       "beta_  Intercept                       0.0           NaN  NaN           NaN  \n",
       "\n",
       "[57 rows x 11 columns]"
      ]
     },
     "execution_count": 55,
     "metadata": {},
     "output_type": "execute_result"
    }
   ],
   "source": [
    "model.summary"
   ]
  },
  {
   "cell_type": "code",
   "execution_count": null,
   "id": "01caf276",
   "metadata": {},
   "outputs": [],
   "source": []
  },
  {
   "cell_type": "code",
   "execution_count": 59,
   "id": "fc7f8351",
   "metadata": {},
   "outputs": [],
   "source": [
    "import pandas as pd\n",
    "from lifelines.plotting import plot_lifetimes\n",
    "import matplotlib.pyplot as plt"
   ]
  },
  {
   "cell_type": "code",
   "execution_count": 67,
   "id": "da6993c8",
   "metadata": {},
   "outputs": [],
   "source": [
    "sample_data = df.sample(n=1000)"
   ]
  },
  {
   "cell_type": "code",
   "execution_count": 68,
   "id": "6617df0f",
   "metadata": {},
   "outputs": [],
   "source": [
    "durations = sample_data['time2event']\n",
    "events = sample_data['event']"
   ]
  },
  {
   "cell_type": "code",
   "execution_count": 69,
   "id": "76ed8e2a",
   "metadata": {},
   "outputs": [
    {
     "name": "stderr",
     "output_type": "stream",
     "text": [
      "/home/samuel/miniconda3/envs/fastai2/lib/python3.10/site-packages/lifelines/plotting.py:773: UserWarning: For less visual clutter, you may want to subsample to less than 25 individuals.\n"
     ]
    },
    {
     "data": {
      "image/png": "[encoded data removed]",
      "text/plain": [
       "<Figure size 1000x600 with 1 Axes>"
      ]
     },
     "metadata": {},
     "output_type": "display_data"
    }
   ],
   "source": [
    "# Usar plot_lifetimes\n",
    "plt.figure(figsize=(10, 6))\n",
    "plot_lifetimes(durations, event_observed=events)\n",
    "plt.title('Lifetimes of different Properties')\n",
    "plt.xlabel('Time in Days')\n",
    "plt.ylabel('Property ID')\n",
    "plt.show()"
   ]
  },
  {
   "cell_type": "code",
   "execution_count": null,
   "id": "c79b26af",
   "metadata": {},
   "outputs": [],
   "source": []
  },
  {
   "cell_type": "markdown",
   "id": "3f40fa96",
   "metadata": {},
   "source": [
    "### End of survival part"
   ]
  },
  {
   "cell_type": "code",
   "execution_count": 65,
   "id": "27c66976",
   "metadata": {},
   "outputs": [],
   "source": [
    "m = DecisionTreeRegressor(max_leaf_nodes=4)\n",
    "m.fit(xs, y);"
   ]
  },
  {
   "cell_type": "code",
   "execution_count": 66,
   "id": "667ae088",
   "metadata": {},
   "outputs": [
    {
     "data": {
      "image/svg+xml": [
       "<?xml version=\"1.0\" encoding=\"UTF-8\" standalone=\"no\"?>\n",
       "<!DOCTYPE svg PUBLIC \"-//W3C//DTD SVG 1.1//EN\"\n",
       " \"http://www.w3.org/Graphics/SVG/1.1/DTD/svg11.dtd\">\n",
       "<!-- Generated by graphviz version 2.43.0 (0)\n",
       " -->\n",
       "<!-- Title: Tree Pages: 1 -->\n",
       "<svg width=\"720pt\" height=\"436pt\"\n",
       " viewBox=\"0.00 0.00 720.00 435.75\" xmlns=\"http://www.w3.org/2000/svg\" xmlns:xlink=\"http://www.w3.org/1999/xlink\">\n",
       "<g id=\"graph0\" class=\"graph\" transform=\"scale(1.01 1.01) rotate(0) translate(4 435.38)\">\n",
       "<title>Tree</title>\n",
       "<polygon fill=\"white\" stroke=\"transparent\" points=\"-4,4 -4,-435.38 722,-435.38 722,4 -4,4\"/>\n",
       "<!-- 0 -->\n",
       "<g id=\"node1\" class=\"node\">\n",
       "<title>0</title>\n",
       "<path fill=\"#f1bc96\" stroke=\"black\" d=\"M646,-426C646,-426 440,-426 440,-426 434,-426 428,-420 428,-414 428,-414 428,-370 428,-370 428,-364 434,-358 440,-358 440,-358 646,-358 646,-358 652,-358 658,-364 658,-370 658,-370 658,-414 658,-414 658,-420 652,-426 646,-426\"/>\n",
       "<text text-anchor=\"start\" x=\"436\" y=\"-410.8\" font-family=\"Helvetica,sans-Serif\" font-size=\"14.00\">first_observed_Elapsed ≤ 1.13</text>\n",
       "<text text-anchor=\"start\" x=\"468\" y=\"-395.8\" font-family=\"Helvetica,sans-Serif\" font-size=\"14.00\">squared_error = 0.54</text>\n",
       "<text text-anchor=\"start\" x=\"485.5\" y=\"-380.8\" font-family=\"Helvetica,sans-Serif\" font-size=\"14.00\">samples = 3792</text>\n",
       "<text text-anchor=\"start\" x=\"497.5\" y=\"-365.8\" font-family=\"Helvetica,sans-Serif\" font-size=\"14.00\">value = 3.95</text>\n",
       "</g>\n",
       "<!-- 1 -->\n",
       "<g id=\"node2\" class=\"node\">\n",
       "<title>1</title>\n",
       "<path fill=\"#eeae7f\" stroke=\"black\" d=\"M552.5,-306C552.5,-306 349.5,-306 349.5,-306 343.5,-306 337.5,-300 337.5,-294 337.5,-294 337.5,-250 337.5,-250 337.5,-244 343.5,-238 349.5,-238 349.5,-238 552.5,-238 552.5,-238 558.5,-238 564.5,-244 564.5,-250 564.5,-250 564.5,-294 564.5,-294 564.5,-300 558.5,-306 552.5,-306\"/>\n",
       "<text text-anchor=\"start\" x=\"345.5\" y=\"-290.8\" font-family=\"Helvetica,sans-Serif\" font-size=\"14.00\">last_observed_Elapsed ≤ 0.33</text>\n",
       "<text text-anchor=\"start\" x=\"376\" y=\"-275.8\" font-family=\"Helvetica,sans-Serif\" font-size=\"14.00\">squared_error = 0.48</text>\n",
       "<text text-anchor=\"start\" x=\"393.5\" y=\"-260.8\" font-family=\"Helvetica,sans-Serif\" font-size=\"14.00\">samples = 3114</text>\n",
       "<text text-anchor=\"start\" x=\"410\" y=\"-245.8\" font-family=\"Helvetica,sans-Serif\" font-size=\"14.00\">value = 4.1</text>\n",
       "</g>\n",
       "<!-- 0&#45;&gt;1 -->\n",
       "<g id=\"edge1\" class=\"edge\">\n",
       "<title>0&#45;&gt;1</title>\n",
       "<path fill=\"none\" stroke=\"black\" d=\"M517.13,-357.82C506.64,-344.37 494.42,-328.69 483.36,-314.5\"/>\n",
       "<polygon fill=\"black\" stroke=\"black\" points=\"485.91,-312.08 477,-306.34 480.39,-316.38 485.91,-312.08\"/>\n",
       "<text text-anchor=\"middle\" x=\"473.92\" y=\"-327.45\" font-family=\"Helvetica,sans-Serif\" font-size=\"14.00\">True</text>\n",
       "</g>\n",
       "<!-- 2 -->\n",
       "<g id=\"node7\" class=\"node\">\n",
       "<title>2</title>\n",
       "<path fill=\"#ffffff\" stroke=\"black\" d=\"M706,-57.5C706,-57.5 564,-57.5 564,-57.5 558,-57.5 552,-51.5 552,-45.5 552,-45.5 552,-16.5 552,-16.5 552,-10.5 558,-4.5 564,-4.5 564,-4.5 706,-4.5 706,-4.5 712,-4.5 718,-10.5 718,-16.5 718,-16.5 718,-45.5 718,-45.5 718,-51.5 712,-57.5 706,-57.5\"/>\n",
       "<text text-anchor=\"start\" x=\"560\" y=\"-42.3\" font-family=\"Helvetica,sans-Serif\" font-size=\"14.00\">squared_error = 0.23</text>\n",
       "<text text-anchor=\"start\" x=\"582\" y=\"-27.3\" font-family=\"Helvetica,sans-Serif\" font-size=\"14.00\">samples = 678</text>\n",
       "<text text-anchor=\"start\" x=\"589.5\" y=\"-12.3\" font-family=\"Helvetica,sans-Serif\" font-size=\"14.00\">value = 3.24</text>\n",
       "</g>\n",
       "<!-- 0&#45;&gt;2 -->\n",
       "<g id=\"edge6\" class=\"edge\">\n",
       "<title>0&#45;&gt;2</title>\n",
       "<path fill=\"none\" stroke=\"black\" d=\"M554.68,-357.89C563.11,-334.03 573,-306 573,-306 573,-306 610.16,-141.8 626.94,-67.62\"/>\n",
       "<polygon fill=\"black\" stroke=\"black\" points=\"630.37,-68.3 629.17,-57.78 623.55,-66.76 630.37,-68.3\"/>\n",
       "<text text-anchor=\"middle\" x=\"642.51\" y=\"-75.22\" font-family=\"Helvetica,sans-Serif\" font-size=\"14.00\">False</text>\n",
       "</g>\n",
       "<!-- 3 -->\n",
       "<g id=\"node3\" class=\"node\">\n",
       "<title>3</title>\n",
       "<path fill=\"#f4c9ab\" stroke=\"black\" d=\"M372.5,-185C372.5,-185 161.5,-185 161.5,-185 155.5,-185 149.5,-179 149.5,-173 149.5,-173 149.5,-129 149.5,-129 149.5,-123 155.5,-117 161.5,-117 161.5,-117 372.5,-117 372.5,-117 378.5,-117 384.5,-123 384.5,-129 384.5,-129 384.5,-173 384.5,-173 384.5,-179 378.5,-185 372.5,-185\"/>\n",
       "<text text-anchor=\"start\" x=\"157.5\" y=\"-169.8\" font-family=\"Helvetica,sans-Serif\" font-size=\"14.00\">first_observed_Elapsed ≤ &#45;1.41</text>\n",
       "<text text-anchor=\"start\" x=\"192\" y=\"-154.8\" font-family=\"Helvetica,sans-Serif\" font-size=\"14.00\">squared_error = 0.47</text>\n",
       "<text text-anchor=\"start\" x=\"209.5\" y=\"-139.8\" font-family=\"Helvetica,sans-Serif\" font-size=\"14.00\">samples = 1922</text>\n",
       "<text text-anchor=\"start\" x=\"221.5\" y=\"-124.8\" font-family=\"Helvetica,sans-Serif\" font-size=\"14.00\">value = 3.81</text>\n",
       "</g>\n",
       "<!-- 1&#45;&gt;3 -->\n",
       "<g id=\"edge2\" class=\"edge\">\n",
       "<title>1&#45;&gt;3</title>\n",
       "<path fill=\"none\" stroke=\"black\" d=\"M399.75,-237.85C377.11,-223.21 350.35,-205.91 326.81,-190.68\"/>\n",
       "<polygon fill=\"black\" stroke=\"black\" points=\"328.6,-187.67 318.3,-185.18 324.79,-193.55 328.6,-187.67\"/>\n",
       "</g>\n",
       "<!-- 4 -->\n",
       "<g id=\"node6\" class=\"node\">\n",
       "<title>4</title>\n",
       "<path fill=\"#e5813a\" stroke=\"black\" d=\"M522,-57.5C522,-57.5 380,-57.5 380,-57.5 374,-57.5 368,-51.5 368,-45.5 368,-45.5 368,-16.5 368,-16.5 368,-10.5 374,-4.5 380,-4.5 380,-4.5 522,-4.5 522,-4.5 528,-4.5 534,-10.5 534,-16.5 534,-16.5 534,-45.5 534,-45.5 534,-51.5 528,-57.5 522,-57.5\"/>\n",
       "<text text-anchor=\"start\" x=\"376\" y=\"-42.3\" font-family=\"Helvetica,sans-Serif\" font-size=\"14.00\">squared_error = 0.14</text>\n",
       "<text text-anchor=\"start\" x=\"393.5\" y=\"-27.3\" font-family=\"Helvetica,sans-Serif\" font-size=\"14.00\">samples = 1192</text>\n",
       "<text text-anchor=\"start\" x=\"405.5\" y=\"-12.3\" font-family=\"Helvetica,sans-Serif\" font-size=\"14.00\">value = 4.57</text>\n",
       "</g>\n",
       "<!-- 1&#45;&gt;4 -->\n",
       "<g id=\"edge5\" class=\"edge\">\n",
       "<title>1&#45;&gt;4</title>\n",
       "<path fill=\"none\" stroke=\"black\" d=\"M451,-237.77C451,-193.03 451,-113.74 451,-67.74\"/>\n",
       "<polygon fill=\"black\" stroke=\"black\" points=\"454.5,-67.63 451,-57.63 447.5,-67.63 454.5,-67.63\"/>\n",
       "</g>\n",
       "<!-- 5 -->\n",
       "<g id=\"node4\" class=\"node\">\n",
       "<title>5</title>\n",
       "<path fill=\"#e58139\" stroke=\"black\" d=\"M154,-57.5C154,-57.5 12,-57.5 12,-57.5 6,-57.5 0,-51.5 0,-45.5 0,-45.5 0,-16.5 0,-16.5 0,-10.5 6,-4.5 12,-4.5 12,-4.5 154,-4.5 154,-4.5 160,-4.5 166,-10.5 166,-16.5 166,-16.5 166,-45.5 166,-45.5 166,-51.5 160,-57.5 154,-57.5\"/>\n",
       "<text text-anchor=\"start\" x=\"8\" y=\"-42.3\" font-family=\"Helvetica,sans-Serif\" font-size=\"14.00\">squared_error = 0.16</text>\n",
       "<text text-anchor=\"start\" x=\"30\" y=\"-27.3\" font-family=\"Helvetica,sans-Serif\" font-size=\"14.00\">samples = 319</text>\n",
       "<text text-anchor=\"start\" x=\"37.5\" y=\"-12.3\" font-family=\"Helvetica,sans-Serif\" font-size=\"14.00\">value = 4.57</text>\n",
       "</g>\n",
       "<!-- 3&#45;&gt;5 -->\n",
       "<g id=\"edge3\" class=\"edge\">\n",
       "<title>3&#45;&gt;5</title>\n",
       "<path fill=\"none\" stroke=\"black\" d=\"M215.26,-116.82C188.99,-99.97 157.28,-79.64 131.49,-63.1\"/>\n",
       "<polygon fill=\"black\" stroke=\"black\" points=\"133.3,-60.1 122.99,-57.65 129.52,-65.99 133.3,-60.1\"/>\n",
       "</g>\n",
       "<!-- 6 -->\n",
       "<g id=\"node5\" class=\"node\">\n",
       "<title>6</title>\n",
       "<path fill=\"#f7d8c1\" stroke=\"black\" d=\"M338,-57.5C338,-57.5 196,-57.5 196,-57.5 190,-57.5 184,-51.5 184,-45.5 184,-45.5 184,-16.5 184,-16.5 184,-10.5 190,-4.5 196,-4.5 196,-4.5 338,-4.5 338,-4.5 344,-4.5 350,-10.5 350,-16.5 350,-16.5 350,-45.5 350,-45.5 350,-51.5 344,-57.5 338,-57.5\"/>\n",
       "<text text-anchor=\"start\" x=\"192\" y=\"-42.3\" font-family=\"Helvetica,sans-Serif\" font-size=\"14.00\">squared_error = 0.39</text>\n",
       "<text text-anchor=\"start\" x=\"209.5\" y=\"-27.3\" font-family=\"Helvetica,sans-Serif\" font-size=\"14.00\">samples = 1603</text>\n",
       "<text text-anchor=\"start\" x=\"221.5\" y=\"-12.3\" font-family=\"Helvetica,sans-Serif\" font-size=\"14.00\">value = 3.66</text>\n",
       "</g>\n",
       "<!-- 3&#45;&gt;6 -->\n",
       "<g id=\"edge4\" class=\"edge\">\n",
       "<title>3&#45;&gt;6</title>\n",
       "<path fill=\"none\" stroke=\"black\" d=\"M267,-116.82C267,-101.64 267,-83.63 267,-68.11\"/>\n",
       "<polygon fill=\"black\" stroke=\"black\" points=\"270.5,-67.84 267,-57.84 263.5,-67.84 270.5,-67.84\"/>\n",
       "</g>\n",
       "</g>\n",
       "</svg>\n"
      ],
      "text/plain": [
       "<graphviz.sources.Source at 0x7f9b82e22d70>"
      ]
     },
     "execution_count": 66,
     "metadata": {},
     "output_type": "execute_result"
    }
   ],
   "source": [
    "draw_tree(m, xs, size=10, leaves_parallel=True, precision=2)"
   ]
  },
  {
   "cell_type": "code",
   "execution_count": 28,
   "id": "d154ec7d",
   "metadata": {},
   "outputs": [],
   "source": [
    "samp_idx = np.random.permutation(len(y))[:500]"
   ]
  },
  {
   "cell_type": "code",
   "execution_count": 29,
   "id": "e09f6465",
   "metadata": {},
   "outputs": [],
   "source": [
    "m = DecisionTreeRegressor(max_leaf_nodes=4).fit(xs, y)"
   ]
  },
  {
   "cell_type": "code",
   "execution_count": 30,
   "id": "98147796",
   "metadata": {},
   "outputs": [],
   "source": [
    "m = DecisionTreeRegressor()\n",
    "m.fit(xs, y);"
   ]
  },
  {
   "cell_type": "code",
   "execution_count": null,
   "id": "b018cae9",
   "metadata": {},
   "outputs": [],
   "source": []
  },
  {
   "cell_type": "code",
   "execution_count": 31,
   "id": "ed6868bc",
   "metadata": {},
   "outputs": [],
   "source": [
    "def r_mse(pred,y): return round(math.sqrt(((pred-y)**2).mean()), 6)\n",
    "def m_rmse(m, xs, y): return r_mse(m.predict(xs), y)"
   ]
  },
  {
   "cell_type": "code",
   "execution_count": 32,
   "id": "3e0a4716",
   "metadata": {},
   "outputs": [
    {
     "data": {
      "text/plain": [
       "0.0"
      ]
     },
     "execution_count": 32,
     "metadata": {},
     "output_type": "execute_result"
    }
   ],
   "source": [
    "m_rmse(m, xs, y)"
   ]
  },
  {
   "cell_type": "code",
   "execution_count": 33,
   "id": "5f381ffa",
   "metadata": {},
   "outputs": [
    {
     "data": {
      "text/plain": [
       "0.117501"
      ]
     },
     "execution_count": 33,
     "metadata": {},
     "output_type": "execute_result"
    }
   ],
   "source": [
    "m_rmse(m, valid_xs, valid_y)"
   ]
  },
  {
   "cell_type": "code",
   "execution_count": 34,
   "id": "6d1ceb39",
   "metadata": {},
   "outputs": [
    {
     "data": {
      "text/plain": [
       "(1391, 3792)"
      ]
     },
     "execution_count": 34,
     "metadata": {},
     "output_type": "execute_result"
    }
   ],
   "source": [
    "m.get_n_leaves(), len(xs)"
   ]
  },
  {
   "cell_type": "code",
   "execution_count": null,
   "id": "b468b76c",
   "metadata": {},
   "outputs": [],
   "source": []
  },
  {
   "cell_type": "code",
   "execution_count": 35,
   "id": "d3e6baaa",
   "metadata": {},
   "outputs": [
    {
     "data": {
      "text/plain": [
       "(0.136865, 0.15738)"
      ]
     },
     "execution_count": 35,
     "metadata": {},
     "output_type": "execute_result"
    }
   ],
   "source": [
    "m = DecisionTreeRegressor(min_samples_leaf=25)\n",
    "m.fit(to.train.xs, to.train.y)\n",
    "m_rmse(m, xs, y), m_rmse(m, valid_xs, valid_y)"
   ]
  },
  {
   "cell_type": "code",
   "execution_count": 36,
   "id": "a5b726b2",
   "metadata": {},
   "outputs": [
    {
     "data": {
      "text/plain": [
       "116"
      ]
     },
     "execution_count": 36,
     "metadata": {},
     "output_type": "execute_result"
    }
   ],
   "source": [
    "\n",
    "m.get_n_leaves()"
   ]
  },
  {
   "cell_type": "code",
   "execution_count": 37,
   "id": "4fddd0e7",
   "metadata": {},
   "outputs": [],
   "source": [
    "def rf(xs, y, n_estimators=40, max_samples=1500,\n",
    "       max_features=0.5, min_samples_leaf=5, **kwargs):\n",
    "    return RandomForestRegressor(n_jobs=-1, n_estimators=n_estimators,\n",
    "        max_samples=max_samples, max_features=max_features,\n",
    "        min_samples_leaf=min_samples_leaf, oob_score=True).fit(xs, y)"
   ]
  },
  {
   "cell_type": "code",
   "execution_count": null,
   "id": "4d84a863",
   "metadata": {},
   "outputs": [],
   "source": []
  },
  {
   "cell_type": "code",
   "execution_count": 38,
   "id": "f686fa79",
   "metadata": {},
   "outputs": [],
   "source": [
    "m = rf(xs, y);"
   ]
  },
  {
   "cell_type": "code",
   "execution_count": 39,
   "id": "a025b4ef",
   "metadata": {},
   "outputs": [
    {
     "data": {
      "text/plain": [
       "(0.088419, 0.104946)"
      ]
     },
     "execution_count": 39,
     "metadata": {},
     "output_type": "execute_result"
    }
   ],
   "source": [
    "m_rmse(m, xs, y), m_rmse(m, valid_xs, valid_y)"
   ]
  },
  {
   "cell_type": "code",
   "execution_count": 71,
   "id": "0b05f31a",
   "metadata": {},
   "outputs": [],
   "source": [
    "preds = np.stack([t.predict(valid_xs) for t in m.estimators_])"
   ]
  },
  {
   "cell_type": "code",
   "execution_count": 41,
   "id": "1463ac7e",
   "metadata": {},
   "outputs": [
    {
     "data": {
      "text/plain": [
       "0.104946"
      ]
     },
     "execution_count": 41,
     "metadata": {},
     "output_type": "execute_result"
    }
   ],
   "source": [
    "r_mse(preds.mean(0), valid_y)"
   ]
  },
  {
   "cell_type": "code",
   "execution_count": 42,
   "id": "f3c5a380",
   "metadata": {},
   "outputs": [
    {
     "data": {
      "image/png": "[encoded data removed]",
      "text/plain": [
       "<Figure size 640x480 with 1 Axes>"
      ]
     },
     "metadata": {},
     "output_type": "display_data"
    }
   ],
   "source": [
    "plt.plot([r_mse(preds[:i+1].mean(0), valid_y) for i in range(40)]);"
   ]
  },
  {
   "cell_type": "code",
   "execution_count": 43,
   "id": "99be2fdf",
   "metadata": {},
   "outputs": [
    {
     "data": {
      "text/plain": [
       "0.10437"
      ]
     },
     "execution_count": 43,
     "metadata": {},
     "output_type": "execute_result"
    }
   ],
   "source": [
    "r_mse(m.oob_prediction_, y)"
   ]
  },
  {
   "cell_type": "code",
   "execution_count": null,
   "id": "89f7336d",
   "metadata": {},
   "outputs": [],
   "source": []
  },
  {
   "cell_type": "code",
   "execution_count": null,
   "id": "81e11a50",
   "metadata": {},
   "outputs": [],
   "source": []
  },
  {
   "cell_type": "code",
   "execution_count": 72,
   "id": "b5c255ff",
   "metadata": {},
   "outputs": [],
   "source": [
    "preds = np.stack([t.predict(valid_xs) for t in m.estimators_])"
   ]
  },
  {
   "cell_type": "code",
   "execution_count": 45,
   "id": "bf477372",
   "metadata": {},
   "outputs": [
    {
     "data": {
      "text/plain": [
       "(40, 948)"
      ]
     },
     "execution_count": 45,
     "metadata": {},
     "output_type": "execute_result"
    }
   ],
   "source": [
    "preds.shape"
   ]
  },
  {
   "cell_type": "code",
   "execution_count": 46,
   "id": "f737d37a",
   "metadata": {},
   "outputs": [],
   "source": [
    "preds_std = preds.std(0)"
   ]
  },
  {
   "cell_type": "code",
   "execution_count": 47,
   "id": "3fbd6bb1",
   "metadata": {},
   "outputs": [
    {
     "data": {
      "text/plain": [
       "array([0.1121517 , 0.27643743, 0.16073366, 0.02041776, 0.05220831])"
      ]
     },
     "execution_count": 47,
     "metadata": {},
     "output_type": "execute_result"
    }
   ],
   "source": [
    "preds_std[:5]"
   ]
  },
  {
   "cell_type": "code",
   "execution_count": 48,
   "id": "231c60b0",
   "metadata": {},
   "outputs": [],
   "source": [
    "def rf_feat_importance(m, df):\n",
    "    return pd.DataFrame({'cols':df.columns, 'imp':m.feature_importances_}\n",
    "                       ).sort_values('imp', ascending=False)\n",
    "     "
   ]
  },
  {
   "cell_type": "code",
   "execution_count": 49,
   "id": "4acf7fc9",
   "metadata": {},
   "outputs": [
    {
     "data": {
      "text/html": [
       "<div>\n",
       "<style scoped>\n",
       "    .dataframe tbody tr th:only-of-type {\n",
       "        vertical-align: middle;\n",
       "    }\n",
       "\n",
       "    .dataframe tbody tr th {\n",
       "        vertical-align: top;\n",
       "    }\n",
       "\n",
       "    .dataframe thead th {\n",
       "        text-align: right;\n",
       "    }\n",
       "</style>\n",
       "<table border=\"1\" class=\"dataframe\">\n",
       "  <thead>\n",
       "    <tr style=\"text-align: right;\">\n",
       "      <th></th>\n",
       "      <th>cols</th>\n",
       "      <th>imp</th>\n",
       "    </tr>\n",
       "  </thead>\n",
       "  <tbody>\n",
       "    <tr>\n",
       "      <th>49</th>\n",
       "      <td>first_observed_Elapsed</td>\n",
       "      <td>0.244355</td>\n",
       "    </tr>\n",
       "    <tr>\n",
       "      <th>48</th>\n",
       "      <td>first_observed_Dayofyear</td>\n",
       "      <td>0.195203</td>\n",
       "    </tr>\n",
       "    <tr>\n",
       "      <th>55</th>\n",
       "      <td>last_observed_Elapsed</td>\n",
       "      <td>0.184352</td>\n",
       "    </tr>\n",
       "    <tr>\n",
       "      <th>54</th>\n",
       "      <td>last_observed_Dayofyear</td>\n",
       "      <td>0.113135</td>\n",
       "    </tr>\n",
       "    <tr>\n",
       "      <th>45</th>\n",
       "      <td>first_observed_Week</td>\n",
       "      <td>0.098354</td>\n",
       "    </tr>\n",
       "    <tr>\n",
       "      <th>51</th>\n",
       "      <td>last_observed_Week</td>\n",
       "      <td>0.071649</td>\n",
       "    </tr>\n",
       "    <tr>\n",
       "      <th>44</th>\n",
       "      <td>first_observed_Month</td>\n",
       "      <td>0.032555</td>\n",
       "    </tr>\n",
       "    <tr>\n",
       "      <th>50</th>\n",
       "      <td>last_observed_Month</td>\n",
       "      <td>0.028809</td>\n",
       "    </tr>\n",
       "    <tr>\n",
       "      <th>20</th>\n",
       "      <td>event</td>\n",
       "      <td>0.010069</td>\n",
       "    </tr>\n",
       "    <tr>\n",
       "      <th>32</th>\n",
       "      <td>num_marketplaces_property_at</td>\n",
       "      <td>0.006819</td>\n",
       "    </tr>\n",
       "  </tbody>\n",
       "</table>\n",
       "</div>"
      ],
      "text/plain": [
       "                            cols       imp\n",
       "49        first_observed_Elapsed  0.244355\n",
       "48      first_observed_Dayofyear  0.195203\n",
       "55         last_observed_Elapsed  0.184352\n",
       "54       last_observed_Dayofyear  0.113135\n",
       "45           first_observed_Week  0.098354\n",
       "51            last_observed_Week  0.071649\n",
       "44          first_observed_Month  0.032555\n",
       "50           last_observed_Month  0.028809\n",
       "20                         event  0.010069\n",
       "32  num_marketplaces_property_at  0.006819"
      ]
     },
     "execution_count": 49,
     "metadata": {},
     "output_type": "execute_result"
    }
   ],
   "source": [
    "fi = rf_feat_importance(m, xs)\n",
    "fi[:10]"
   ]
  },
  {
   "cell_type": "code",
   "execution_count": null,
   "id": "402bfccb",
   "metadata": {},
   "outputs": [],
   "source": []
  },
  {
   "cell_type": "code",
   "execution_count": 50,
   "id": "654474be",
   "metadata": {},
   "outputs": [
    {
     "data": {
      "image/png": "[encoded data removed]",
      "text/plain": [
       "<Figure size 1200x700 with 1 Axes>"
      ]
     },
     "metadata": {},
     "output_type": "display_data"
    }
   ],
   "source": [
    "def plot_fi(fi):\n",
    "    return fi.plot('cols', 'imp', 'barh', figsize=(12,7), legend=False)\n",
    "\n",
    "plot_fi(fi[:30]);"
   ]
  },
  {
   "cell_type": "code",
   "execution_count": 51,
   "id": "2759163e",
   "metadata": {},
   "outputs": [
    {
     "data": {
      "text/plain": [
       "10"
      ]
     },
     "execution_count": 51,
     "metadata": {},
     "output_type": "execute_result"
    }
   ],
   "source": [
    "to_keep = fi[fi.imp>0.005].cols\n",
    "len(to_keep)"
   ]
  },
  {
   "cell_type": "code",
   "execution_count": 52,
   "id": "2089c20c",
   "metadata": {},
   "outputs": [],
   "source": [
    "xs_imp = xs[to_keep]\n",
    "valid_xs_imp = valid_xs[to_keep]"
   ]
  },
  {
   "cell_type": "code",
   "execution_count": null,
   "id": "81c4b835",
   "metadata": {},
   "outputs": [],
   "source": []
  },
  {
   "cell_type": "code",
   "execution_count": 53,
   "id": "525be373",
   "metadata": {},
   "outputs": [],
   "source": [
    "m = rf(xs_imp, y)"
   ]
  },
  {
   "cell_type": "markdown",
   "id": "7110f3aa",
   "metadata": {},
   "source": [
    "# Result"
   ]
  },
  {
   "cell_type": "code",
   "execution_count": 54,
   "id": "75ff4791",
   "metadata": {},
   "outputs": [
    {
     "data": {
      "text/plain": [
       "(0.084817, 0.093694)"
      ]
     },
     "execution_count": 54,
     "metadata": {},
     "output_type": "execute_result"
    }
   ],
   "source": [
    "m_rmse(m, xs_imp, y), m_rmse(m, valid_xs_imp, valid_y)"
   ]
  },
  {
   "cell_type": "code",
   "execution_count": 56,
   "id": "2eb53d46",
   "metadata": {},
   "outputs": [
    {
     "data": {
      "image/png": "[encoded data removed]",
      "text/plain": [
       "<Figure size 1200x700 with 1 Axes>"
      ]
     },
     "metadata": {},
     "output_type": "display_data"
    }
   ],
   "source": [
    "\n",
    "plot_fi(rf_feat_importance(m, xs_imp));"
   ]
  },
  {
   "cell_type": "code",
   "execution_count": null,
   "id": "8cb97c8f",
   "metadata": {},
   "outputs": [],
   "source": []
  },
  {
   "cell_type": "code",
   "execution_count": 57,
   "id": "d50e64b0",
   "metadata": {},
   "outputs": [
    {
     "data": {
      "image/png": "[encoded data removed]",
      "text/plain": [
       "<Figure size 1000x600 with 1 Axes>"
      ]
     },
     "metadata": {},
     "output_type": "display_data"
    }
   ],
   "source": [
    "cluster_columns(xs_imp)"
   ]
  },
  {
   "cell_type": "code",
   "execution_count": null,
   "id": "ed66bafe",
   "metadata": {},
   "outputs": [],
   "source": []
  },
  {
   "cell_type": "code",
   "execution_count": null,
   "id": "6e359069",
   "metadata": {},
   "outputs": [],
   "source": []
  },
  {
   "cell_type": "code",
   "execution_count": null,
   "id": "0dca0623",
   "metadata": {},
   "outputs": [],
   "source": []
  },
  {
   "cell_type": "code",
   "execution_count": null,
   "id": "b5c301f2",
   "metadata": {},
   "outputs": [],
   "source": []
  },
  {
   "cell_type": "code",
   "execution_count": null,
   "id": "3ca45ce5",
   "metadata": {},
   "outputs": [],
   "source": []
  }
 ],
 "metadata": {
  "kernelspec": {
   "display_name": "Python 3 (ipykernel)",
   "language": "python",
   "name": "python3"
  },
  "language_info": {
   "codemirror_mode": {
    "name": "ipython",
    "version": 3
   },
   "file_extension": ".py",
   "mimetype": "text/x-python",
   "name": "python",
   "nbconvert_exporter": "python",
   "pygments_lexer": "ipython3",
   "version": "3.10.8"
  },
  "toc": {
   "base_numbering": 1,
   "nav_menu": {},
   "number_sections": true,
   "sideBar": true,
   "skip_h1_title": false,
   "title_cell": "Table of Contents",
   "title_sidebar": "Contents",
   "toc_cell": false,
   "toc_position": {},
   "toc_section_display": true,
   "toc_window_display": false
  },
  "varInspector": {
   "cols": {
    "lenName": 16,
    "lenType": 16,
    "lenVar": 40
   },
   "kernels_config": {
    "python": {
     "delete_cmd_postfix": "",
     "delete_cmd_prefix": "del ",
     "library": "var_list.py",
     "varRefreshCmd": "print(var_dic_list())"
    },
    "r": {
     "delete_cmd_postfix": ") ",
     "delete_cmd_prefix": "rm(",
     "library": "var_list.r",
     "varRefreshCmd": "cat(var_dic_list()) "
    }
   },
   "types_to_exclude": [
    "module",
    "function",
    "builtin_function_or_method",
    "instance",
    "_Feature"
   ],
   "window_display": false
  }
 },
 "nbformat": 4,
 "nbformat_minor": 5
}
